{
 "cells": [
  {
   "cell_type": "code",
   "execution_count": 23,
   "metadata": {
    "scrolled": true
   },
   "outputs": [
    {
     "name": "stdout",
     "output_type": "stream",
     "text": [
      "Latitud: 27.2722\n",
      "Longitud: -101.9458\n",
      "Radio: 300\n"
     ]
    },
    {
     "data": {
      "image/png": "[encoded data removed]",
      "text/plain": [
       "<Figure size 432x288 with 1 Axes>"
      ]
     },
     "metadata": {
      "needs_background": "light"
     },
     "output_type": "display_data"
    }
   ],
   "source": [
    "import urllib2\n",
    "import folium\n",
    "import requests\n",
    "import matplotlib.pyplot as plt\n",
    "\n",
    "lat= float(raw_input(\"Latitud: \")) #esta es una peticion que le pedira al usuario, que en este caso es latitud \n",
    "lon= float(raw_input(\"Longitud: \")) #esta es una segunda peticion que le pedira al usuario\n",
    "    \n",
    "radio=int(raw_input(\"Radio: \")) #de igual manera esta es una peticion que le pedira al usuario ingresar el radio \n",
    "token= \"c6c1fff0-ff8f-4f6e-8917-0460fd84d434\"#Esta clave me la proporciono el INEGI\n",
    "url= \"http://www3.inegi.org.mx/sistemas/api/denue/v1/consulta/buscar/todos/\"\n",
    "url+= str(lat) + \",\"+str(lon)+\"/\"+str(radio)+\"/\"+token\n",
    "url\n",
    "\n",
    "#importar requests\n",
    "response= requests.get(url) #este comando devolvera la llamada o peticion de response\n",
    "results= response.json()\n",
    "f = results # f es una variable que contiene el resultado, es decir que contiene la informacion del json\n",
    "s= len(f) #se declara una nueva variable en donde len , es la longitud, es decir todo lo que contiene f \n",
    "\n",
    "#Se crea el objeto mapa, con el modulo de folium \n",
    "\n",
    "mexico = folium.Map(location=[22, -99],zoom_start=60)\n",
    "\n",
    "folium.Marker([lon, lon], popup= \"centro\",icon = folium.Icon(color ='red')).add_to(mexico)\n",
    "\n",
    "plt.plot(lon,lon)\n",
    "plt.show()\n"
   ]
  },
  {
   "cell_type": "code",
   "execution_count": null,
   "metadata": {},
   "outputs": [],
   "source": []
  },
  {
   "cell_type": "code",
   "execution_count": null,
   "metadata": {},
   "outputs": [],
   "source": []
  }
 ],
 "metadata": {
  "kernelspec": {
   "display_name": "Python 2",
   "language": "python",
   "name": "python2"
  },
  "language_info": {
   "codemirror_mode": {
    "name": "ipython",
    "version": 2
   },
   "file_extension": ".py",
   "mimetype": "text/x-python",
   "name": "python",
   "nbconvert_exporter": "python",
   "pygments_lexer": "ipython2",
   "version": "2.7.15"
  }
 },
 "nbformat": 4,
 "nbformat_minor": 2
}
